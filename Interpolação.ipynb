{
 "cells": [
  {
   "cell_type": "code",
   "execution_count": 30,
   "id": "eee50415",
   "metadata": {},
   "outputs": [],
   "source": [
    "import sympy as sp\n",
    "from sympy import E, cos, exp"
   ]
  },
  {
   "cell_type": "code",
   "execution_count": 31,
   "id": "eeaeb06c",
   "metadata": {},
   "outputs": [],
   "source": [
    "x, y, z, a, b, c, k, i, l, p = sp.symbols('x y z a b c k i l p')\n",
    "c1, c2, c3, c4, c5, c6, c7 = sp.symbols('c1 c2 c3 c4 c5 c6 c7')"
   ]
  },
  {
   "cell_type": "code",
   "execution_count": 32,
   "id": "72501f94",
   "metadata": {},
   "outputs": [
    {
     "data": {
      "text/latex": [
       "$\\displaystyle - \\frac{a i l x^{2} \\cos{\\left(p z \\right)}}{z} + \\frac{a k l x^{2} e^{y} \\cos{\\left(p z \\right)}}{z} - \\frac{b i l x \\cos{\\left(p z \\right)}}{z} + \\frac{b k l x e^{y} \\cos{\\left(p z \\right)}}{z} - \\frac{c i l \\cos{\\left(p z \\right)}}{z} + \\frac{c k l e^{y} \\cos{\\left(p z \\right)}}{z}$"
      ],
      "text/plain": [
       "-a*i*l*x**2*cos(p*z)/z + a*k*l*x**2*exp(y)*cos(p*z)/z - b*i*l*x*cos(p*z)/z + b*k*l*x*exp(y)*cos(p*z)/z - c*i*l*cos(p*z)/z + c*k*l*exp(y)*cos(p*z)/z"
      ]
     },
     "execution_count": 32,
     "metadata": {},
     "output_type": "execute_result"
    }
   ],
   "source": [
    "f1 = a*x**2 + b*x + c\n",
    "f2 = k*E**y - i\n",
    "f3 = l*cos(p*z)/z\n",
    "\n",
    "f = sp.expand(f1*f2*f3)\n",
    "f"
   ]
  },
  {
   "cell_type": "code",
   "execution_count": 33,
   "id": "cf38fdd5",
   "metadata": {},
   "outputs": [
    {
     "data": {
      "text/plain": [
       "'-c*c*c*x**2*coc(p*z)/z + c*c*c*x**2*exp(y)*coc(p*z)/z - c*c*c*x*coc(p*z)/z + c*c*c*x*exp(y)*coc(p*z)/z - c*c*c*coc(p*z)/z + c*c*c*exp(y)*coc(p*z)/z'"
      ]
     },
     "execution_count": 33,
     "metadata": {},
     "output_type": "execute_result"
    }
   ],
   "source": [
    "def joinConstants(f, const=''):\n",
    "    const = const.split(' ')\n",
    "    Faux = str(f)\n",
    "    \n",
    "    for c in const:\n",
    "        Faux = Faux.replace(str(c), 'c')\n",
    "    \n",
    "    return Faux\n",
    "\n",
    "joinConstants(f, 'a b c k i l s')"
   ]
  },
  {
   "cell_type": "code",
   "execution_count": 34,
   "id": "a75a2783",
   "metadata": {},
   "outputs": [
    {
     "ename": "NameError",
     "evalue": "name 'coc' is not defined",
     "output_type": "error",
     "traceback": [
      "\u001b[1;31m---------------------------------------------------------------------------\u001b[0m",
      "\u001b[1;31mNameError\u001b[0m                                 Traceback (most recent call last)",
      "\u001b[1;32m~\\AppData\\Local\\Temp/ipykernel_13856/366263152.py\u001b[0m in \u001b[0;36m<module>\u001b[1;34m\u001b[0m\n\u001b[1;32m----> 1\u001b[1;33m \u001b[0mc1\u001b[0m\u001b[1;33m*\u001b[0m\u001b[0mx\u001b[0m\u001b[1;33m**\u001b[0m\u001b[1;36m2\u001b[0m\u001b[1;33m*\u001b[0m\u001b[0mcos\u001b[0m\u001b[1;33m(\u001b[0m\u001b[0mc2\u001b[0m\u001b[1;33m*\u001b[0m\u001b[0mz\u001b[0m\u001b[1;33m)\u001b[0m\u001b[1;33m/\u001b[0m\u001b[0mz\u001b[0m \u001b[1;33m+\u001b[0m \u001b[0mc\u001b[0m\u001b[1;33m*\u001b[0m\u001b[0mc\u001b[0m\u001b[1;33m*\u001b[0m\u001b[0mc\u001b[0m\u001b[1;33m*\u001b[0m\u001b[0mx\u001b[0m\u001b[1;33m**\u001b[0m\u001b[1;36m2\u001b[0m\u001b[1;33m*\u001b[0m\u001b[0mexp\u001b[0m\u001b[1;33m(\u001b[0m\u001b[0my\u001b[0m\u001b[1;33m)\u001b[0m\u001b[1;33m*\u001b[0m\u001b[0mcoc\u001b[0m\u001b[1;33m(\u001b[0m\u001b[0mc\u001b[0m\u001b[1;33m*\u001b[0m\u001b[0mz\u001b[0m\u001b[1;33m)\u001b[0m\u001b[1;33m/\u001b[0m\u001b[0mz\u001b[0m \u001b[1;33m-\u001b[0m \u001b[0mc\u001b[0m\u001b[1;33m*\u001b[0m\u001b[0mc\u001b[0m\u001b[1;33m*\u001b[0m\u001b[0mc\u001b[0m\u001b[1;33m*\u001b[0m\u001b[0mx\u001b[0m\u001b[1;33m*\u001b[0m\u001b[0mcoc\u001b[0m\u001b[1;33m(\u001b[0m\u001b[0mc\u001b[0m\u001b[1;33m*\u001b[0m\u001b[0mz\u001b[0m\u001b[1;33m)\u001b[0m\u001b[1;33m/\u001b[0m\u001b[0mz\u001b[0m \u001b[1;33m+\u001b[0m \u001b[0mc\u001b[0m\u001b[1;33m*\u001b[0m\u001b[0mc\u001b[0m\u001b[1;33m*\u001b[0m\u001b[0mc\u001b[0m\u001b[1;33m*\u001b[0m\u001b[0mx\u001b[0m\u001b[1;33m*\u001b[0m\u001b[0mexp\u001b[0m\u001b[1;33m(\u001b[0m\u001b[0my\u001b[0m\u001b[1;33m)\u001b[0m\u001b[1;33m*\u001b[0m\u001b[0mcoc\u001b[0m\u001b[1;33m(\u001b[0m\u001b[0mc\u001b[0m\u001b[1;33m*\u001b[0m\u001b[0mz\u001b[0m\u001b[1;33m)\u001b[0m\u001b[1;33m/\u001b[0m\u001b[0mz\u001b[0m \u001b[1;33m-\u001b[0m \u001b[0mc\u001b[0m\u001b[1;33m*\u001b[0m\u001b[0mc\u001b[0m\u001b[1;33m*\u001b[0m\u001b[0mc\u001b[0m\u001b[1;33m*\u001b[0m\u001b[0mcoc\u001b[0m\u001b[1;33m(\u001b[0m\u001b[0mc\u001b[0m\u001b[1;33m*\u001b[0m\u001b[0mz\u001b[0m\u001b[1;33m)\u001b[0m\u001b[1;33m/\u001b[0m\u001b[0mz\u001b[0m \u001b[1;33m+\u001b[0m \u001b[0mc\u001b[0m\u001b[1;33m*\u001b[0m\u001b[0mc\u001b[0m\u001b[1;33m*\u001b[0m\u001b[0mc\u001b[0m\u001b[1;33m*\u001b[0m\u001b[0mexp\u001b[0m\u001b[1;33m(\u001b[0m\u001b[0my\u001b[0m\u001b[1;33m)\u001b[0m\u001b[1;33m*\u001b[0m\u001b[0mcoc\u001b[0m\u001b[1;33m(\u001b[0m\u001b[0mc\u001b[0m\u001b[1;33m*\u001b[0m\u001b[0mz\u001b[0m\u001b[1;33m)\u001b[0m\u001b[1;33m/\u001b[0m\u001b[0mz\u001b[0m\u001b[1;33m\u001b[0m\u001b[1;33m\u001b[0m\u001b[0m\n\u001b[0m",
      "\u001b[1;31mNameError\u001b[0m: name 'coc' is not defined"
     ]
    }
   ],
   "source": [
    "c1*x**2*coc(c2*z)/z + c3*x**2*exp(y)*coc(p*z)/z - c*c*c*x*coc(p*z)/z + c*c*c*x*exp(y)*coc(p*z)/z - c*c*c*coc(p*z)/z + c*c*c*exp(y)*coc(p*z)/z"
   ]
  },
  {
   "cell_type": "code",
   "execution_count": null,
   "id": "36a0f33f",
   "metadata": {},
   "outputs": [],
   "source": []
  }
 ],
 "metadata": {
  "kernelspec": {
   "display_name": "Python 3 (ipykernel)",
   "language": "python",
   "name": "python3"
  },
  "language_info": {
   "codemirror_mode": {
    "name": "ipython",
    "version": 3
   },
   "file_extension": ".py",
   "mimetype": "text/x-python",
   "name": "python",
   "nbconvert_exporter": "python",
   "pygments_lexer": "ipython3",
   "version": "3.9.7"
  }
 },
 "nbformat": 4,
 "nbformat_minor": 5
}
